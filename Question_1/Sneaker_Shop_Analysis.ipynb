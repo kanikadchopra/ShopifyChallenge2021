{
  "nbformat": 4,
  "nbformat_minor": 0,
  "metadata": {
    "colab": {
      "name": "Sneaker Shop Analysis.ipynb",
      "provenance": [],
      "collapsed_sections": [],
      "toc_visible": true
    },
    "kernelspec": {
      "name": "python3",
      "display_name": "Python 3"
    }
  },
  "cells": [
    {
      "cell_type": "code",
      "metadata": {
        "id": "0w_coPxmu7uA",
        "colab_type": "code",
        "colab": {}
      },
      "source": [
        "import pandas as pd\n",
        "import numpy as np\n",
        "import matplotlib.pyplot as plt"
      ],
      "execution_count": 1,
      "outputs": []
    },
    {
      "cell_type": "code",
      "metadata": {
        "id": "wuK4qgzEZ5kA",
        "colab_type": "code",
        "colab": {}
      },
      "source": [
        "pd.options.display.max_rows = 4000"
      ],
      "execution_count": 2,
      "outputs": []
    },
    {
      "cell_type": "markdown",
      "metadata": {
        "id": "7hw_grysvBZJ",
        "colab_type": "text"
      },
      "source": [
        "# Shopify Winter 2021 Data Science Challenge\n",
        "\n",
        "**By: Kanika Chopra**\n",
        "\n",
        "This notebook will be to go through the 100 sneaker shops and analyse the order value. We want to understand why over a 30 day window, the average order value (AOV) is $3145.13 and determine a more accurate metric. \n",
        "\n",
        "\n",
        "Think about what could be going wrong with our calculation. Think about a better way to evaluate this data. \n",
        "What metric would you report for this dataset?\n",
        "What is its value?\n"
      ]
    },
    {
      "cell_type": "markdown",
      "metadata": {
        "id": "A_zmfO-gvWBH",
        "colab_type": "text"
      },
      "source": [
        "## Loading the Data\n",
        "\n",
        "First, we need to load the data that we are using for the 100 sneaker shops. "
      ]
    },
    {
      "cell_type": "code",
      "metadata": {
        "id": "0wIZUJwkvTl5",
        "colab_type": "code",
        "colab": {}
      },
      "source": [
        "shoes = pd.read_csv('/content/2019 Winter Data Science Intern Challenge Data Set - Sheet1.csv')"
      ],
      "execution_count": 3,
      "outputs": []
    },
    {
      "cell_type": "code",
      "metadata": {
        "id": "JiufxIjzTvUm",
        "colab_type": "code",
        "colab": {
          "base_uri": "https://localhost:8080/",
          "height": 68
        },
        "outputId": "350ec413-b4c0-4d61-8879-d7baf9e7803d"
      },
      "source": [
        "shoes.columns"
      ],
      "execution_count": 4,
      "outputs": [
        {
          "output_type": "execute_result",
          "data": {
            "text/plain": [
              "Index(['order_id', 'shop_id', 'user_id', 'order_amount', 'total_items',\n",
              "       'payment_method', 'created_at'],\n",
              "      dtype='object')"
            ]
          },
          "metadata": {
            "tags": []
          },
          "execution_count": 4
        }
      ]
    },
    {
      "cell_type": "markdown",
      "metadata": {
        "id": "uVWLclq2Jnta",
        "colab_type": "text"
      },
      "source": [
        "Next, we want to do some data preprocessing on the dates before we can do the exploratory data analysis on the data to understand what kind of data we are working with."
      ]
    },
    {
      "cell_type": "markdown",
      "metadata": {
        "id": "2khKm7nsTr2s",
        "colab_type": "text"
      },
      "source": [
        "## Data Preprocessing"
      ]
    },
    {
      "cell_type": "code",
      "metadata": {
        "id": "tvxGzhE9Tt4A",
        "colab_type": "code",
        "colab": {
          "base_uri": "https://localhost:8080/",
          "height": 119
        },
        "outputId": "8210ed77-2395-4557-d000-f6fb5795d25e"
      },
      "source": [
        "shoes['created_at'].head()"
      ],
      "execution_count": 5,
      "outputs": [
        {
          "output_type": "execute_result",
          "data": {
            "text/plain": [
              "0    2017-03-13 12:36:56\n",
              "1    2017-03-03 17:38:52\n",
              "2     2017-03-14 4:23:56\n",
              "3    2017-03-26 12:43:37\n",
              "4     2017-03-01 4:35:11\n",
              "Name: created_at, dtype: object"
            ]
          },
          "metadata": {
            "tags": []
          },
          "execution_count": 5
        }
      ]
    },
    {
      "cell_type": "markdown",
      "metadata": {
        "id": "bEvXer7ST8Ay",
        "colab_type": "text"
      },
      "source": [
        "We want to split up the created date by year, month and day. We want to keep the created_at column in case we want to reference it later so we create new columns for these three categories."
      ]
    },
    {
      "cell_type": "code",
      "metadata": {
        "id": "wS76U2i3UG4i",
        "colab_type": "code",
        "colab": {}
      },
      "source": [
        "shoes['year'] = shoes['created_at'].apply(lambda x: x[:4])\n",
        "shoes['month'] = shoes['created_at'].apply(lambda x: x[5:7])\n",
        "shoes['day'] = shoes['created_at'].apply(lambda x: x[8:10])"
      ],
      "execution_count": 6,
      "outputs": []
    },
    {
      "cell_type": "markdown",
      "metadata": {
        "id": "1ctyhE8yJs5y",
        "colab_type": "text"
      },
      "source": [
        "## Exploratory Data Analysis"
      ]
    },
    {
      "cell_type": "code",
      "metadata": {
        "id": "lCinsZ_FJh1R",
        "colab_type": "code",
        "colab": {
          "base_uri": "https://localhost:8080/",
          "height": 204
        },
        "outputId": "352c1d5d-c18f-4afc-8b8f-624c51515ff0"
      },
      "source": [
        "shoes.head()"
      ],
      "execution_count": 7,
      "outputs": [
        {
          "output_type": "execute_result",
          "data": {
            "text/html": [
              "<div>\n",
              "<style scoped>\n",
              "    .dataframe tbody tr th:only-of-type {\n",
              "        vertical-align: middle;\n",
              "    }\n",
              "\n",
              "    .dataframe tbody tr th {\n",
              "        vertical-align: top;\n",
              "    }\n",
              "\n",
              "    .dataframe thead th {\n",
              "        text-align: right;\n",
              "    }\n",
              "</style>\n",
              "<table border=\"1\" class=\"dataframe\">\n",
              "  <thead>\n",
              "    <tr style=\"text-align: right;\">\n",
              "      <th></th>\n",
              "      <th>order_id</th>\n",
              "      <th>shop_id</th>\n",
              "      <th>user_id</th>\n",
              "      <th>order_amount</th>\n",
              "      <th>total_items</th>\n",
              "      <th>payment_method</th>\n",
              "      <th>created_at</th>\n",
              "      <th>year</th>\n",
              "      <th>month</th>\n",
              "      <th>day</th>\n",
              "    </tr>\n",
              "  </thead>\n",
              "  <tbody>\n",
              "    <tr>\n",
              "      <th>0</th>\n",
              "      <td>1</td>\n",
              "      <td>53</td>\n",
              "      <td>746</td>\n",
              "      <td>224</td>\n",
              "      <td>2</td>\n",
              "      <td>cash</td>\n",
              "      <td>2017-03-13 12:36:56</td>\n",
              "      <td>2017</td>\n",
              "      <td>03</td>\n",
              "      <td>13</td>\n",
              "    </tr>\n",
              "    <tr>\n",
              "      <th>1</th>\n",
              "      <td>2</td>\n",
              "      <td>92</td>\n",
              "      <td>925</td>\n",
              "      <td>90</td>\n",
              "      <td>1</td>\n",
              "      <td>cash</td>\n",
              "      <td>2017-03-03 17:38:52</td>\n",
              "      <td>2017</td>\n",
              "      <td>03</td>\n",
              "      <td>03</td>\n",
              "    </tr>\n",
              "    <tr>\n",
              "      <th>2</th>\n",
              "      <td>3</td>\n",
              "      <td>44</td>\n",
              "      <td>861</td>\n",
              "      <td>144</td>\n",
              "      <td>1</td>\n",
              "      <td>cash</td>\n",
              "      <td>2017-03-14 4:23:56</td>\n",
              "      <td>2017</td>\n",
              "      <td>03</td>\n",
              "      <td>14</td>\n",
              "    </tr>\n",
              "    <tr>\n",
              "      <th>3</th>\n",
              "      <td>4</td>\n",
              "      <td>18</td>\n",
              "      <td>935</td>\n",
              "      <td>156</td>\n",
              "      <td>1</td>\n",
              "      <td>credit_card</td>\n",
              "      <td>2017-03-26 12:43:37</td>\n",
              "      <td>2017</td>\n",
              "      <td>03</td>\n",
              "      <td>26</td>\n",
              "    </tr>\n",
              "    <tr>\n",
              "      <th>4</th>\n",
              "      <td>5</td>\n",
              "      <td>18</td>\n",
              "      <td>883</td>\n",
              "      <td>156</td>\n",
              "      <td>1</td>\n",
              "      <td>credit_card</td>\n",
              "      <td>2017-03-01 4:35:11</td>\n",
              "      <td>2017</td>\n",
              "      <td>03</td>\n",
              "      <td>01</td>\n",
              "    </tr>\n",
              "  </tbody>\n",
              "</table>\n",
              "</div>"
            ],
            "text/plain": [
              "   order_id  shop_id  user_id  ...  year  month day\n",
              "0         1       53      746  ...  2017     03  13\n",
              "1         2       92      925  ...  2017     03  03\n",
              "2         3       44      861  ...  2017     03  14\n",
              "3         4       18      935  ...  2017     03  26\n",
              "4         5       18      883  ...  2017     03  01\n",
              "\n",
              "[5 rows x 10 columns]"
            ]
          },
          "metadata": {
            "tags": []
          },
          "execution_count": 7
        }
      ]
    },
    {
      "cell_type": "code",
      "metadata": {
        "id": "DQGvEhfyJ089",
        "colab_type": "code",
        "colab": {
          "base_uri": "https://localhost:8080/",
          "height": 34
        },
        "outputId": "d5a77508-ea3a-4281-db77-0b7122507f4b"
      },
      "source": [
        "shoes.shape"
      ],
      "execution_count": 8,
      "outputs": [
        {
          "output_type": "execute_result",
          "data": {
            "text/plain": [
              "(5000, 10)"
            ]
          },
          "metadata": {
            "tags": []
          },
          "execution_count": 8
        }
      ]
    },
    {
      "cell_type": "markdown",
      "metadata": {
        "id": "EWu-vdSDJwLu",
        "colab_type": "text"
      },
      "source": [
        "We see that the columns we have are order ID, shop ID, user ID, order amount, total items, payment method and the date the order was created at. We have 7 columns, and 5000 rows so 5000 different orders. We'll want to investigate the different columns to see where the error may lie."
      ]
    },
    {
      "cell_type": "markdown",
      "metadata": {
        "id": "CLZVnjs6VSDj",
        "colab_type": "text"
      },
      "source": [
        "### Dates \n",
        "This is to understand what year and month these purchases are happening in."
      ]
    },
    {
      "cell_type": "code",
      "metadata": {
        "id": "ec1sdClTVXUj",
        "colab_type": "code",
        "colab": {
          "base_uri": "https://localhost:8080/",
          "height": 51
        },
        "outputId": "3c156d6f-d02c-46fa-909c-9e6ccb8f6e14"
      },
      "source": [
        "shoes['year'].value_counts()"
      ],
      "execution_count": 9,
      "outputs": [
        {
          "output_type": "execute_result",
          "data": {
            "text/plain": [
              "2017    5000\n",
              "Name: year, dtype: int64"
            ]
          },
          "metadata": {
            "tags": []
          },
          "execution_count": 9
        }
      ]
    },
    {
      "cell_type": "code",
      "metadata": {
        "id": "re5hmKVaVXXF",
        "colab_type": "code",
        "colab": {
          "base_uri": "https://localhost:8080/",
          "height": 51
        },
        "outputId": "3049e440-e995-4d1e-9acf-32d377b166e9"
      },
      "source": [
        "shoes['month'].value_counts()"
      ],
      "execution_count": 10,
      "outputs": [
        {
          "output_type": "execute_result",
          "data": {
            "text/plain": [
              "03    5000\n",
              "Name: month, dtype: int64"
            ]
          },
          "metadata": {
            "tags": []
          },
          "execution_count": 10
        }
      ]
    },
    {
      "cell_type": "code",
      "metadata": {
        "id": "W2u-WgLCVsNO",
        "colab_type": "code",
        "colab": {}
      },
      "source": [
        "# Get the days dataframe\n",
        "days = pd.DataFrame(shoes['day'].value_counts())\n",
        "days.reset_index(inplace=True)\n",
        "days.columns = ['day', 'count']\n",
        "days.sort_values(by='day', inplace=True)"
      ],
      "execution_count": 11,
      "outputs": []
    },
    {
      "cell_type": "code",
      "metadata": {
        "id": "n4eI4AUdYkcf",
        "colab_type": "code",
        "colab": {
          "base_uri": "https://localhost:8080/",
          "height": 515
        },
        "outputId": "4a5f5202-0d3c-4da6-a49f-6696afc898a0"
      },
      "source": [
        "# Plot the bar graph of days \n",
        "plt.figure(figsize=[10,8])\n",
        "plt.bar(days['day'], days['count'])\n",
        "plt.xlabel('Days')\n",
        "plt.ylabel('Frequency')\n",
        "plt.title('Shoe Purchase by Days',fontsize=15)\n",
        "plt.show()"
      ],
      "execution_count": 12,
      "outputs": [
        {
          "output_type": "display_data",
          "data": {
            "image/png": "[encoded data removed]",
            "text/plain": [
              "<Figure size 720x576 with 1 Axes>"
            ]
          },
          "metadata": {
            "tags": [],
            "needs_background": "light"
          }
        }
      ]
    },
    {
      "cell_type": "markdown",
      "metadata": {
        "id": "2qqV76RWYvyb",
        "colab_type": "text"
      },
      "source": [
        "It doesn't seem like there is a trend with the days that the purchases are made, they seem to be randomly distributed. Each day has a similar number of orders with a few exceptions; however, this is all within the 30 day span so we should look for outliers."
      ]
    },
    {
      "cell_type": "markdown",
      "metadata": {
        "id": "MfijuNIMKOUL",
        "colab_type": "text"
      },
      "source": [
        "### User ID \n",
        "\n",
        "We begin by looking to see if there are any user IDs who have a large number of orders."
      ]
    },
    {
      "cell_type": "code",
      "metadata": {
        "id": "IqLMozJxJmlF",
        "colab_type": "code",
        "colab": {
          "base_uri": "https://localhost:8080/",
          "height": 119
        },
        "outputId": "5138d902-ddad-4a09-b0b0-b0ce3a020867"
      },
      "source": [
        "shoes.user_id.value_counts().head()"
      ],
      "execution_count": 13,
      "outputs": [
        {
          "output_type": "execute_result",
          "data": {
            "text/plain": [
              "718    28\n",
              "868    27\n",
              "847    26\n",
              "791    26\n",
              "727    25\n",
              "Name: user_id, dtype: int64"
            ]
          },
          "metadata": {
            "tags": []
          },
          "execution_count": 13
        }
      ]
    },
    {
      "cell_type": "markdown",
      "metadata": {
        "id": "NIfJ-NsDKPr3",
        "colab_type": "text"
      },
      "source": [
        "We can see that there are some cases where a user is placing orders 28 times. This is something we will keep in mind in case there is one user that is making large purchases and driving up the AOV price."
      ]
    },
    {
      "cell_type": "markdown",
      "metadata": {
        "id": "KsM3TPn3MsuG",
        "colab_type": "text"
      },
      "source": [
        "### Total Items"
      ]
    },
    {
      "cell_type": "code",
      "metadata": {
        "id": "MKnFxbPFKL-M",
        "colab_type": "code",
        "colab": {
          "base_uri": "https://localhost:8080/",
          "height": 170
        },
        "outputId": "c91007c8-930d-4c0c-8a3f-b9d9648c24a5"
      },
      "source": [
        "shoes.total_items.value_counts()"
      ],
      "execution_count": 14,
      "outputs": [
        {
          "output_type": "execute_result",
          "data": {
            "text/plain": [
              "2       1832\n",
              "1       1830\n",
              "3        941\n",
              "4        293\n",
              "5         77\n",
              "2000      17\n",
              "6          9\n",
              "8          1\n",
              "Name: total_items, dtype: int64"
            ]
          },
          "metadata": {
            "tags": []
          },
          "execution_count": 14
        }
      ]
    },
    {
      "cell_type": "markdown",
      "metadata": {
        "id": "81DAPcY0OQGq",
        "colab_type": "text"
      },
      "source": [
        "We can see that as the number of items increases, the quantity ordered decreases which makes sense as most customers would prefer to buy 1 or 2 pairs of shoes. However, we can see that there are 17 cases where 2000 shoes are bought and this is likely increasing the AOV. We'll want to investigate this further as this seems like a huge outlier in comparison to the other total items.\n",
        "\n",
        "We can start by trying to understand if this is one user that is repeatedly buying these shoes, or many users. "
      ]
    },
    {
      "cell_type": "markdown",
      "metadata": {
        "id": "zz-J1kxUO-ZL",
        "colab_type": "text"
      },
      "source": [
        "## Investigating the 2000 Shoes\n",
        "\n",
        "We want to investigate this case of 2000 shoes and determine if this is an outlier. This may be the outlier causing an increase in the AOV."
      ]
    },
    {
      "cell_type": "code",
      "metadata": {
        "id": "njOucm4QMqJC",
        "colab_type": "code",
        "colab": {
          "base_uri": "https://localhost:8080/",
          "height": 51
        },
        "outputId": "4785cef3-a410-4fce-9485-f6be67df9504"
      },
      "source": [
        "shoes2000 = shoes[shoes['total_items'] == 2000]\n",
        "\n",
        "shoes2000.user_id.value_counts()"
      ],
      "execution_count": 15,
      "outputs": [
        {
          "output_type": "execute_result",
          "data": {
            "text/plain": [
              "607    17\n",
              "Name: user_id, dtype: int64"
            ]
          },
          "metadata": {
            "tags": []
          },
          "execution_count": 15
        }
      ]
    },
    {
      "cell_type": "markdown",
      "metadata": {
        "id": "Lp4rLRMUOn1i",
        "colab_type": "text"
      },
      "source": [
        "From this, we can see that user id 607 is the only customer purchasing 2000 pairs of shoes. "
      ]
    },
    {
      "cell_type": "code",
      "metadata": {
        "id": "yWW-0Q9EOO7i",
        "colab_type": "code",
        "colab": {
          "base_uri": "https://localhost:8080/",
          "height": 51
        },
        "outputId": "5128eb17-200e-424f-8004-bcd2b5c1d7f1"
      },
      "source": [
        "shoes2000.payment_method.value_counts()"
      ],
      "execution_count": 16,
      "outputs": [
        {
          "output_type": "execute_result",
          "data": {
            "text/plain": [
              "credit_card    17\n",
              "Name: payment_method, dtype: int64"
            ]
          },
          "metadata": {
            "tags": []
          },
          "execution_count": 16
        }
      ]
    },
    {
      "cell_type": "markdown",
      "metadata": {
        "id": "XjUpHTZSO5ic",
        "colab_type": "text"
      },
      "source": [
        "These shoes are all paid for by credit card."
      ]
    },
    {
      "cell_type": "code",
      "metadata": {
        "id": "TPaqRrhlO4xs",
        "colab_type": "code",
        "colab": {
          "base_uri": "https://localhost:8080/",
          "height": 51
        },
        "outputId": "34776d14-5c17-4646-c7d1-ab3f4438ad85"
      },
      "source": [
        "shoes2000['order_amount'].value_counts()"
      ],
      "execution_count": 17,
      "outputs": [
        {
          "output_type": "execute_result",
          "data": {
            "text/plain": [
              "704000    17\n",
              "Name: order_amount, dtype: int64"
            ]
          },
          "metadata": {
            "tags": []
          },
          "execution_count": 17
        }
      ]
    },
    {
      "cell_type": "markdown",
      "metadata": {
        "id": "_Z9j-AdkPGpX",
        "colab_type": "text"
      },
      "source": [
        "It seems that each time, the order amount is the same as well so they are buying the same amount of shoes. Let's see if they are getting them all from one shop as this would make sense if the cost of the shoes is the same each time."
      ]
    },
    {
      "cell_type": "code",
      "metadata": {
        "id": "sGWz3omDO9KX",
        "colab_type": "code",
        "colab": {
          "base_uri": "https://localhost:8080/",
          "height": 51
        },
        "outputId": "9c8bccdc-3182-4db3-bd33-faf840bda3aa"
      },
      "source": [
        "shoes2000['shop_id'].value_counts()"
      ],
      "execution_count": 18,
      "outputs": [
        {
          "output_type": "execute_result",
          "data": {
            "text/plain": [
              "42    17\n",
              "Name: shop_id, dtype: int64"
            ]
          },
          "metadata": {
            "tags": []
          },
          "execution_count": 18
        }
      ]
    },
    {
      "cell_type": "markdown",
      "metadata": {
        "id": "ywskcEUVPUKh",
        "colab_type": "text"
      },
      "source": [
        "Each of the shoes is clearly from the same shop, which means they are selling the one sneaker 2000 times to this customer; hence, the cost is consistent each time. \n",
        "\n",
        "Since this is repeatedly happening within the 30 days, this would be increasing the AOV significantly. This is the error that we have so we want to figure out a better way to handle this data and determine an appropriate metric."
      ]
    },
    {
      "cell_type": "markdown",
      "metadata": {
        "id": "oiN1cZHjTfV_",
        "colab_type": "text"
      },
      "source": [
        "## New Metric"
      ]
    },
    {
      "cell_type": "markdown",
      "metadata": {
        "id": "wePUIBySbNYC",
        "colab_type": "text"
      },
      "source": [
        "To determine the metric, we want to consider a few options and determine the most optimal metric. \n",
        "\n",
        "We will consider the following metrics:\n",
        "1. Remove the cases with 2000 total items and calculating the mean\n",
        "2. Remove the cases with 2000 total items and calculating the median\n",
        "3. Calculating the median of all the cases"
      ]
    },
    {
      "cell_type": "code",
      "metadata": {
        "id": "O_6-C22YnOoc",
        "colab_type": "code",
        "colab": {
          "base_uri": "https://localhost:8080/",
          "height": 34
        },
        "outputId": "4b523cbf-5a1f-47e2-9a54-421d9a603f92"
      },
      "source": [
        "# Remove the 2000 values \n",
        "shoes_clean = shoes[shoes['total_items'] != 2000]\n",
        "\n",
        "len(shoes_clean)"
      ],
      "execution_count": 19,
      "outputs": [
        {
          "output_type": "execute_result",
          "data": {
            "text/plain": [
              "4983"
            ]
          },
          "metadata": {
            "tags": []
          },
          "execution_count": 19
        }
      ]
    },
    {
      "cell_type": "code",
      "metadata": {
        "id": "yGM49DH1o_sh",
        "colab_type": "code",
        "colab": {
          "base_uri": "https://localhost:8080/",
          "height": 153
        },
        "outputId": "0f31c0b7-f714-4574-c0c2-4d300f3788bd"
      },
      "source": [
        "shoes_clean.total_items.value_counts()"
      ],
      "execution_count": 20,
      "outputs": [
        {
          "output_type": "execute_result",
          "data": {
            "text/plain": [
              "2    1832\n",
              "1    1830\n",
              "3     941\n",
              "4     293\n",
              "5      77\n",
              "6       9\n",
              "8       1\n",
              "Name: total_items, dtype: int64"
            ]
          },
          "metadata": {
            "tags": []
          },
          "execution_count": 20
        }
      ]
    },
    {
      "cell_type": "markdown",
      "metadata": {
        "id": "RnTb-O0MpGhX",
        "colab_type": "text"
      },
      "source": [
        "The shoes here are not a very large amount. The largest amount is 8 shoes and that is only one purchase. Let's check the price of that so we can determine if the mean or median is a better metric."
      ]
    },
    {
      "cell_type": "markdown",
      "metadata": {
        "id": "N9ozSvv4n-FF",
        "colab_type": "text"
      },
      "source": [
        "### Mean"
      ]
    },
    {
      "cell_type": "code",
      "metadata": {
        "id": "mrEcYVBinfXt",
        "colab_type": "code",
        "colab": {
          "base_uri": "https://localhost:8080/",
          "height": 51
        },
        "outputId": "73cb5782-c922-4631-ca82-638226a8da80"
      },
      "source": [
        "# Mean before any changes\n",
        "print('Before: ', np.mean(shoes.order_amount))\n",
        "\n",
        "# Mean after changes\n",
        "print('After: ', np.mean(shoes_clean.order_amount))"
      ],
      "execution_count": 21,
      "outputs": [
        {
          "output_type": "stream",
          "text": [
            "Before:  3145.128\n",
            "After:  754.0919125025085\n"
          ],
          "name": "stdout"
        }
      ]
    },
    {
      "cell_type": "markdown",
      "metadata": {
        "id": "zbIqtjdNomqX",
        "colab_type": "text"
      },
      "source": [
        "The mean before removing the 2000 order item values is significnatly higher. It is more than four times the mean after the 2000 order item values are removed. This mean is a more accurate measure."
      ]
    },
    {
      "cell_type": "markdown",
      "metadata": {
        "id": "IIY0yFtooKOV",
        "colab_type": "text"
      },
      "source": [
        "### Median"
      ]
    },
    {
      "cell_type": "code",
      "metadata": {
        "id": "YkmG57h_PSF0",
        "colab_type": "code",
        "colab": {
          "base_uri": "https://localhost:8080/",
          "height": 51
        },
        "outputId": "e267959a-ccd3-401d-8ebe-967e288a01fa"
      },
      "source": [
        "# Median before any changes\n",
        "print('Before: ', np.median(shoes.order_amount))\n",
        "\n",
        "# Median after changes\n",
        "print('After: ', np.median(shoes_clean.order_amount))"
      ],
      "execution_count": 22,
      "outputs": [
        {
          "output_type": "stream",
          "text": [
            "Before:  284.0\n",
            "After:  284.0\n"
          ],
          "name": "stdout"
        }
      ]
    },
    {
      "cell_type": "markdown",
      "metadata": {
        "id": "dow7SM7Pod8X",
        "colab_type": "text"
      },
      "source": [
        "The median does not change whether we remove the outliers or not. The median is a more robust measure of location so this is a good metric of cost."
      ]
    },
    {
      "cell_type": "markdown",
      "metadata": {
        "id": "UXmMltWGocMY",
        "colab_type": "text"
      },
      "source": [
        "### Summary Statistics"
      ]
    },
    {
      "cell_type": "code",
      "metadata": {
        "id": "8B4w-_NbSutD",
        "colab_type": "code",
        "colab": {
          "base_uri": "https://localhost:8080/",
          "height": 170
        },
        "outputId": "e389457f-e7e1-4efd-9703-5c8c00b95cff"
      },
      "source": [
        "shoes.order_amount.describe()"
      ],
      "execution_count": 23,
      "outputs": [
        {
          "output_type": "execute_result",
          "data": {
            "text/plain": [
              "count      5000.000000\n",
              "mean       3145.128000\n",
              "std       41282.539349\n",
              "min          90.000000\n",
              "25%         163.000000\n",
              "50%         284.000000\n",
              "75%         390.000000\n",
              "max      704000.000000\n",
              "Name: order_amount, dtype: float64"
            ]
          },
          "metadata": {
            "tags": []
          },
          "execution_count": 23
        }
      ]
    },
    {
      "cell_type": "code",
      "metadata": {
        "id": "6Vfmz1KiptE-",
        "colab_type": "code",
        "colab": {
          "base_uri": "https://localhost:8080/",
          "height": 170
        },
        "outputId": "424564f4-8350-4137-9b02-feb6c3acc4db"
      },
      "source": [
        "shoes_clean.order_amount.describe()"
      ],
      "execution_count": 24,
      "outputs": [
        {
          "output_type": "execute_result",
          "data": {
            "text/plain": [
              "count      4983.000000\n",
              "mean        754.091913\n",
              "std        5314.092293\n",
              "min          90.000000\n",
              "25%         163.000000\n",
              "50%         284.000000\n",
              "75%         390.000000\n",
              "max      154350.000000\n",
              "Name: order_amount, dtype: float64"
            ]
          },
          "metadata": {
            "tags": []
          },
          "execution_count": 24
        }
      ]
    },
    {
      "cell_type": "markdown",
      "metadata": {
        "id": "cNJVOCFXobfj",
        "colab_type": "text"
      },
      "source": [
        "From the summary statistics, we can see that up until the 75% quantile, the value is $390. \n",
        "\n",
        "Thus, the mean even after removing the values is too high. Therefore, we conclude that the median is the best metric to be used instead of the AOV. The median here is $284 for the 30 day period."
      ]
    },
    {
      "cell_type": "markdown",
      "metadata": {
        "id": "l2Uu4EbTqESA",
        "colab_type": "text"
      },
      "source": [
        "## Summary\n",
        "\n",
        "This section will summarize the answers to the data analysis part of the question."
      ]
    },
    {
      "cell_type": "markdown",
      "metadata": {
        "id": "kBzoVcAF9r2F",
        "colab_type": "text"
      },
      "source": [
        "**1. Think about what could be going wrong with our calculation. Think about a better way to evaluate this data. **\n",
        "\n",
        "The error in the AOV is that there are outlier with the total number of items which is greatly inflating the AOV value. There are 17 cases where the same customer buys 2000 shoes. This is either an error in inputting the data or an odd case of someone buying a large volume of shoes. In either case, it is an outlier and thus we should either find a more robust measure of location or remove these values.\n",
        "\n",
        "**2. What metric would you report for this dataset?**\n",
        "\n",
        "For this dataset, the analysis has shown that we need a more robust measure of location to get an accurate estimate of the order value. Thus, we use the median of the full dataset. \n",
        "\n",
        "**3. What is its value?**\n",
        "\n",
        "The value of the median of the full dataset is $284.00. \n"
      ]
    }
  ]
}